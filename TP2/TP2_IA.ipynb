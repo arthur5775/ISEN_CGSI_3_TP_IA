{
  "cells": [
    {
      "cell_type": "markdown",
      "metadata": {
        "id": "V-h86zJ8MNlw"
      },
      "source": [
        "# 0 - Préparation de l'environnement de travail"
      ]
    },
    {
      "cell_type": "markdown",
      "metadata": {
        "id": "Hq5WoRkqMQsk"
      },
      "source": [
        "Q1) Depuis un dossier TP2 sur votre Google Drive, créez un notebook, sur GoogleColab, nommé tp2_IA    "
      ]
    },
    {
      "cell_type": "markdown",
      "metadata": {
        "id": "jFZgoRSLMXp_"
      },
      "source": [
        "# I - Préparation de données"
      ]
    },
    {
      "cell_type": "markdown",
      "metadata": {
        "id": "28b1CH9KMbsf"
      },
      "source": [
        "Q2) Créez une section intitulée I- Préparation de données"
      ]
    },
    {
      "cell_type": "markdown",
      "metadata": {
        "id": "xu204vbXMggD"
      },
      "source": [
        "### 0 - Téléchargement de données"
      ]
    },
    {
      "cell_type": "markdown",
      "metadata": {
        "id": "BFPp4bWwMouc"
      },
      "source": [
        "Q3) Créez un titre intitulé 0-Téléchargement de données\n",
        "\n",
        "Q4) Contrairement au TP1 où la base de données était dans un fichier CSV, dans le présent TP vous allez charger une base de données directement via une fonction de la bibliothèque Scikit-Learn. Cette fonction est nommée \"fetch_openml\" et elle existe dans le sous-module datasets du module sklearn. Utilisez cette fonction pour charger, dans une variable, la version 1 (version=1) de la base de données nommée \"mnist_784\" comme suit :\n",
        "\n",
        "from sklearn.datasets import fetch_openml\n",
        "\n",
        "mnist = fetch_openml('mnist_784', version=1)\n",
        "\n",
        "Cette base de données est constituée de petites images représentant des chiffres écrits à la main. Elle est considérée comme le \"hello world !\" de la classification\n"
      ]
    },
    {
      "cell_type": "code",
      "execution_count": 40,
      "metadata": {
        "id": "AfhnevRDMzvY"
      },
      "outputs": [],
      "source": [
        "from sklearn.datasets import fetch_openml\n",
        "mnist = fetch_openml('mnist_784', version=1)"
      ]
    },
    {
      "cell_type": "markdown",
      "metadata": {
        "id": "fl68MfEINBVC"
      },
      "source": [
        "###     1 - Informations sur les données"
      ]
    },
    {
      "cell_type": "markdown",
      "metadata": {
        "id": "s6LJAQYENBJB"
      },
      "source": [
        "Q5) Créez un titre intitulé 1- Informations sur les données\n",
        "\n",
        "Q6) Le retour de la fonction \"fetch_openml\" est un dictionnaire (la variable mnist). Pour afficher ses clés, utilisez la fonction \"keys()\"\n"
      ]
    },
    {
      "cell_type": "code",
      "execution_count": 41,
      "metadata": {
        "colab": {
          "base_uri": "https://localhost:8080/"
        },
        "id": "jPa6lwpuS5Ob",
        "outputId": "f11e74b8-8afc-4ec7-efcd-8017bc049370"
      },
      "outputs": [
        {
          "output_type": "stream",
          "name": "stdout",
          "text": [
            "dict_keys(['data', 'target', 'frame', 'categories', 'feature_names', 'target_names', 'DESCR', 'details', 'url'])\n"
          ]
        }
      ],
      "source": [
        "print(mnist.keys())"
      ]
    },
    {
      "cell_type": "markdown",
      "metadata": {
        "id": "ns1lC4VENZbF"
      },
      "source": [
        "Q7) En utilisant les clés du dictionnaire \"mnist\" :\n",
        "\n",
        "a) Stockez dans une variable \"X\" les données. Utilisez la clé \"data\".\n",
        "Affichez La taille des données (le nombre des features et la taille de chaque feature) via l'attribut shape."
      ]
    },
    {
      "cell_type": "code",
      "execution_count": 42,
      "metadata": {
        "colab": {
          "base_uri": "https://localhost:8080/"
        },
        "id": "kL1oLnYJTDvC",
        "outputId": "f304c6ca-b185-4237-e084-960fdb2f236f"
      },
      "outputs": [
        {
          "output_type": "execute_result",
          "data": {
            "text/plain": [
              "(70000, 784)"
            ]
          },
          "metadata": {},
          "execution_count": 42
        }
      ],
      "source": [
        "X= mnist.data\n",
        "X.shape"
      ]
    },
    {
      "cell_type": "markdown",
      "metadata": {
        "id": "8RWhp6tLqTwi"
      },
      "source": [
        "b) Stockez dans une variable \"Y\" les classes. Utilisez la clé \"target\"."
      ]
    },
    {
      "cell_type": "code",
      "execution_count": null,
      "metadata": {
        "id": "jALaDhcfUHGA"
      },
      "outputs": [],
      "source": [
        "Y= mnist.target"
      ]
    },
    {
      "cell_type": "markdown",
      "metadata": {
        "id": "z9MIT0jTqdhM"
      },
      "source": [
        "c) Affichez le nombre d'instance classée via l'attribut shape"
      ]
    },
    {
      "cell_type": "code",
      "execution_count": 43,
      "metadata": {
        "colab": {
          "base_uri": "https://localhost:8080/"
        },
        "id": "lgAb8BKAVDeA",
        "outputId": "798604d0-e16f-468f-f346-f4c91763344f"
      },
      "outputs": [
        {
          "output_type": "execute_result",
          "data": {
            "text/plain": [
              "(70000,)"
            ]
          },
          "metadata": {},
          "execution_count": 43
        }
      ],
      "source": [
        "Y.shape"
      ]
    },
    {
      "cell_type": "markdown",
      "metadata": {
        "id": "AP_iQ7D2qiBw"
      },
      "source": [
        "d) Affichez, les différentes classes de la base de données. Pour ce faire, utilisez la fonction \"unique\" du module \"numpy\""
      ]
    },
    {
      "cell_type": "code",
      "execution_count": 44,
      "metadata": {
        "colab": {
          "base_uri": "https://localhost:8080/"
        },
        "id": "OPo-XL8vUTG5",
        "outputId": "dd98f929-49a3-4b61-b629-5f078fe946fc"
      },
      "outputs": [
        {
          "output_type": "stream",
          "name": "stdout",
          "text": [
            "[0 1 2 3 4 5 6 7 8 9]\n"
          ]
        }
      ],
      "source": [
        "import numpy as np\n",
        "print(np.unique(Y))"
      ]
    },
    {
      "cell_type": "markdown",
      "metadata": {
        "id": "s4Pj-Y-mqmxl"
      },
      "source": [
        "e) Une description détaillée de la base de données. Pour ce faire, utilisez la clé \"DESCR\""
      ]
    },
    {
      "cell_type": "code",
      "execution_count": 45,
      "metadata": {
        "colab": {
          "base_uri": "https://localhost:8080/"
        },
        "id": "KKmFP9jUUw3_",
        "outputId": "e85abf21-3309-498c-f581-f95b6909301a"
      },
      "outputs": [
        {
          "output_type": "stream",
          "name": "stdout",
          "text": [
            "**Author**: Yann LeCun, Corinna Cortes, Christopher J.C. Burges  \n",
            "**Source**: [MNIST Website](http://yann.lecun.com/exdb/mnist/) - Date unknown  \n",
            "**Please cite**:  \n",
            "\n",
            "The MNIST database of handwritten digits with 784 features, raw data available at: http://yann.lecun.com/exdb/mnist/. It can be split in a training set of the first 60,000 examples, and a test set of 10,000 examples  \n",
            "\n",
            "It is a subset of a larger set available from NIST. The digits have been size-normalized and centered in a fixed-size image. It is a good database for people who want to try learning techniques and pattern recognition methods on real-world data while spending minimal efforts on preprocessing and formatting. The original black and white (bilevel) images from NIST were size normalized to fit in a 20x20 pixel box while preserving their aspect ratio. The resulting images contain grey levels as a result of the anti-aliasing technique used by the normalization algorithm. the images were centered in a 28x28 image by computing the center of mass of the pixels, and translating the image so as to position this point at the center of the 28x28 field.  \n",
            "\n",
            "With some classification methods (particularly template-based methods, such as SVM and K-nearest neighbors), the error rate improves when the digits are centered by bounding box rather than center of mass. If you do this kind of pre-processing, you should report it in your publications. The MNIST database was constructed from NIST's NIST originally designated SD-3 as their training set and SD-1 as their test set. However, SD-3 is much cleaner and easier to recognize than SD-1. The reason for this can be found on the fact that SD-3 was collected among Census Bureau employees, while SD-1 was collected among high-school students. Drawing sensible conclusions from learning experiments requires that the result be independent of the choice of training set and test among the complete set of samples. Therefore it was necessary to build a new database by mixing NIST's datasets.  \n",
            "\n",
            "The MNIST training set is composed of 30,000 patterns from SD-3 and 30,000 patterns from SD-1. Our test set was composed of 5,000 patterns from SD-3 and 5,000 patterns from SD-1. The 60,000 pattern training set contained examples from approximately 250 writers. We made sure that the sets of writers of the training set and test set were disjoint. SD-1 contains 58,527 digit images written by 500 different writers. In contrast to SD-3, where blocks of data from each writer appeared in sequence, the data in SD-1 is scrambled. Writer identities for SD-1 is available and we used this information to unscramble the writers. We then split SD-1 in two: characters written by the first 250 writers went into our new training set. The remaining 250 writers were placed in our test set. Thus we had two sets with nearly 30,000 examples each. The new training set was completed with enough examples from SD-3, starting at pattern # 0, to make a full set of 60,000 training patterns. Similarly, the new test set was completed with SD-3 examples starting at pattern # 35,000 to make a full set with 60,000 test patterns. Only a subset of 10,000 test images (5,000 from SD-1 and 5,000 from SD-3) is available on this site. The full 60,000 sample training set is available.\n",
            "\n",
            "Downloaded from openml.org.\n"
          ]
        }
      ],
      "source": [
        "#mnist.DESCR\n",
        "print(mnist[\"DESCR\"])"
      ]
    },
    {
      "cell_type": "markdown",
      "metadata": {
        "id": "cu6SzzD-NuUU"
      },
      "source": [
        "Q8) A travers la question 7, vous avez dû conclure que la base de données MNIST contient 70 000 images en niveau de gris, et chaque image est caractérisée par un features de taille 784 =28*28. En effet, la taille des images est 28x28 pixels et chaque pixel contient des valeurs entre 0 (blanc) à 255 (noir). Chaque image a été aplatie.\n",
        "\n",
        "a) Affichez la première instance de la base de données. Pour ce faire :\n",
        "\n",
        "i) utilisez l'attribut \"values\" du dictionnaire X tout en ajoutant l'indice \"0\""
      ]
    },
    {
      "cell_type": "code",
      "execution_count": 46,
      "metadata": {
        "colab": {
          "base_uri": "https://localhost:8080/"
        },
        "id": "pFx7fcRUVhNv",
        "outputId": "7397b30d-fd53-40be-c766-d3f434c298fb"
      },
      "outputs": [
        {
          "output_type": "stream",
          "name": "stdout",
          "text": [
            "[  0   0   0   0   0   0   0   0   0   0   0   0   0   0   0   0   0   0\n",
            "   0   0   0   0   0   0   0   0   0   0   0   0   0   0   0   0   0   0\n",
            "   0   0   0   0   0   0   0   0   0   0   0   0   0   0   0   0   0   0\n",
            "   0   0   0   0   0   0   0   0   0   0   0   0   0   0   0   0   0   0\n",
            "   0   0   0   0   0   0   0   0   0   0   0   0   0   0   0   0   0   0\n",
            "   0   0   0   0   0   0   0   0   0   0   0   0   0   0   0   0   0   0\n",
            "   0   0   0   0   0   0   0   0   0   0   0   0   0   0   0   0   0   0\n",
            "   0   0   0   0   0   0   0   0   0   0   0   0   0   0   0   0   0   0\n",
            "   0   0   0   0   0   0   0   0   3  18  18  18 126 136 175  26 166 255\n",
            " 247 127   0   0   0   0   0   0   0   0   0   0   0   0  30  36  94 154\n",
            " 170 253 253 253 253 253 225 172 253 242 195  64   0   0   0   0   0   0\n",
            "   0   0   0   0   0  49 238 253 253 253 253 253 253 253 253 251  93  82\n",
            "  82  56  39   0   0   0   0   0   0   0   0   0   0   0   0  18 219 253\n",
            " 253 253 253 253 198 182 247 241   0   0   0   0   0   0   0   0   0   0\n",
            "   0   0   0   0   0   0   0   0  80 156 107 253 253 205  11   0  43 154\n",
            "   0   0   0   0   0   0   0   0   0   0   0   0   0   0   0   0   0   0\n",
            "   0  14   1 154 253  90   0   0   0   0   0   0   0   0   0   0   0   0\n",
            "   0   0   0   0   0   0   0   0   0   0   0   0   0 139 253 190   2   0\n",
            "   0   0   0   0   0   0   0   0   0   0   0   0   0   0   0   0   0   0\n",
            "   0   0   0   0   0  11 190 253  70   0   0   0   0   0   0   0   0   0\n",
            "   0   0   0   0   0   0   0   0   0   0   0   0   0   0   0   0  35 241\n",
            " 225 160 108   1   0   0   0   0   0   0   0   0   0   0   0   0   0   0\n",
            "   0   0   0   0   0   0   0   0   0  81 240 253 253 119  25   0   0   0\n",
            "   0   0   0   0   0   0   0   0   0   0   0   0   0   0   0   0   0   0\n",
            "   0   0  45 186 253 253 150  27   0   0   0   0   0   0   0   0   0   0\n",
            "   0   0   0   0   0   0   0   0   0   0   0   0   0  16  93 252 253 187\n",
            "   0   0   0   0   0   0   0   0   0   0   0   0   0   0   0   0   0   0\n",
            "   0   0   0   0   0   0   0 249 253 249  64   0   0   0   0   0   0   0\n",
            "   0   0   0   0   0   0   0   0   0   0   0   0   0   0  46 130 183 253\n",
            " 253 207   2   0   0   0   0   0   0   0   0   0   0   0   0   0   0   0\n",
            "   0   0   0   0  39 148 229 253 253 253 250 182   0   0   0   0   0   0\n",
            "   0   0   0   0   0   0   0   0   0   0   0   0  24 114 221 253 253 253\n",
            " 253 201  78   0   0   0   0   0   0   0   0   0   0   0   0   0   0   0\n",
            "   0   0  23  66 213 253 253 253 253 198  81   2   0   0   0   0   0   0\n",
            "   0   0   0   0   0   0   0   0   0   0  18 171 219 253 253 253 253 195\n",
            "  80   9   0   0   0   0   0   0   0   0   0   0   0   0   0   0   0   0\n",
            "  55 172 226 253 253 253 253 244 133  11   0   0   0   0   0   0   0   0\n",
            "   0   0   0   0   0   0   0   0   0   0 136 253 253 253 212 135 132  16\n",
            "   0   0   0   0   0   0   0   0   0   0   0   0   0   0   0   0   0   0\n",
            "   0   0   0   0   0   0   0   0   0   0   0   0   0   0   0   0   0   0\n",
            "   0   0   0   0   0   0   0   0   0   0   0   0   0   0   0   0   0   0\n",
            "   0   0   0   0   0   0   0   0   0   0   0   0   0   0   0   0   0   0\n",
            "   0   0   0   0   0   0   0   0   0   0   0   0   0   0   0   0   0   0\n",
            "   0   0   0   0   0   0   0   0   0   0]\n"
          ]
        }
      ],
      "source": [
        "print(X.values[0])"
      ]
    },
    {
      "cell_type": "markdown",
      "metadata": {
        "id": "weNjRSmdtYPW"
      },
      "source": [
        "ii) pensez à la redimensionner, via la fonction \"reshape\" de numpy, en taille \"28,28\""
      ]
    },
    {
      "cell_type": "code",
      "execution_count": 47,
      "metadata": {
        "colab": {
          "base_uri": "https://localhost:8080/"
        },
        "id": "0T75XBtltrGF",
        "outputId": "93756f82-ed61-4ba5-e4d3-833726c260df"
      },
      "outputs": [
        {
          "output_type": "stream",
          "name": "stdout",
          "text": [
            "[[  0   0   0   0   0   0   0   0   0   0   0   0   0   0   0   0   0   0\n",
            "    0   0   0   0   0   0   0   0   0   0]\n",
            " [  0   0   0   0   0   0   0   0   0   0   0   0   0   0   0   0   0   0\n",
            "    0   0   0   0   0   0   0   0   0   0]\n",
            " [  0   0   0   0   0   0   0   0   0   0   0   0   0   0   0   0   0   0\n",
            "    0   0   0   0   0   0   0   0   0   0]\n",
            " [  0   0   0   0   0   0   0   0   0   0   0   0   0   0   0   0   0   0\n",
            "    0   0   0   0   0   0   0   0   0   0]\n",
            " [  0   0   0   0   0   0   0   0   0   0   0   0   0   0   0   0   0   0\n",
            "    0   0   0   0   0   0   0   0   0   0]\n",
            " [  0   0   0   0   0   0   0   0   0   0   0   0   3  18  18  18 126 136\n",
            "  175  26 166 255 247 127   0   0   0   0]\n",
            " [  0   0   0   0   0   0   0   0  30  36  94 154 170 253 253 253 253 253\n",
            "  225 172 253 242 195  64   0   0   0   0]\n",
            " [  0   0   0   0   0   0   0  49 238 253 253 253 253 253 253 253 253 251\n",
            "   93  82  82  56  39   0   0   0   0   0]\n",
            " [  0   0   0   0   0   0   0  18 219 253 253 253 253 253 198 182 247 241\n",
            "    0   0   0   0   0   0   0   0   0   0]\n",
            " [  0   0   0   0   0   0   0   0  80 156 107 253 253 205  11   0  43 154\n",
            "    0   0   0   0   0   0   0   0   0   0]\n",
            " [  0   0   0   0   0   0   0   0   0  14   1 154 253  90   0   0   0   0\n",
            "    0   0   0   0   0   0   0   0   0   0]\n",
            " [  0   0   0   0   0   0   0   0   0   0   0 139 253 190   2   0   0   0\n",
            "    0   0   0   0   0   0   0   0   0   0]\n",
            " [  0   0   0   0   0   0   0   0   0   0   0  11 190 253  70   0   0   0\n",
            "    0   0   0   0   0   0   0   0   0   0]\n",
            " [  0   0   0   0   0   0   0   0   0   0   0   0  35 241 225 160 108   1\n",
            "    0   0   0   0   0   0   0   0   0   0]\n",
            " [  0   0   0   0   0   0   0   0   0   0   0   0   0  81 240 253 253 119\n",
            "   25   0   0   0   0   0   0   0   0   0]\n",
            " [  0   0   0   0   0   0   0   0   0   0   0   0   0   0  45 186 253 253\n",
            "  150  27   0   0   0   0   0   0   0   0]\n",
            " [  0   0   0   0   0   0   0   0   0   0   0   0   0   0   0  16  93 252\n",
            "  253 187   0   0   0   0   0   0   0   0]\n",
            " [  0   0   0   0   0   0   0   0   0   0   0   0   0   0   0   0   0 249\n",
            "  253 249  64   0   0   0   0   0   0   0]\n",
            " [  0   0   0   0   0   0   0   0   0   0   0   0   0   0  46 130 183 253\n",
            "  253 207   2   0   0   0   0   0   0   0]\n",
            " [  0   0   0   0   0   0   0   0   0   0   0   0  39 148 229 253 253 253\n",
            "  250 182   0   0   0   0   0   0   0   0]\n",
            " [  0   0   0   0   0   0   0   0   0   0  24 114 221 253 253 253 253 201\n",
            "   78   0   0   0   0   0   0   0   0   0]\n",
            " [  0   0   0   0   0   0   0   0  23  66 213 253 253 253 253 198  81   2\n",
            "    0   0   0   0   0   0   0   0   0   0]\n",
            " [  0   0   0   0   0   0  18 171 219 253 253 253 253 195  80   9   0   0\n",
            "    0   0   0   0   0   0   0   0   0   0]\n",
            " [  0   0   0   0  55 172 226 253 253 253 253 244 133  11   0   0   0   0\n",
            "    0   0   0   0   0   0   0   0   0   0]\n",
            " [  0   0   0   0 136 253 253 253 212 135 132  16   0   0   0   0   0   0\n",
            "    0   0   0   0   0   0   0   0   0   0]\n",
            " [  0   0   0   0   0   0   0   0   0   0   0   0   0   0   0   0   0   0\n",
            "    0   0   0   0   0   0   0   0   0   0]\n",
            " [  0   0   0   0   0   0   0   0   0   0   0   0   0   0   0   0   0   0\n",
            "    0   0   0   0   0   0   0   0   0   0]\n",
            " [  0   0   0   0   0   0   0   0   0   0   0   0   0   0   0   0   0   0\n",
            "    0   0   0   0   0   0   0   0   0   0]]\n"
          ]
        }
      ],
      "source": [
        "reshaped = X.values[0].reshape(28, 28)\n",
        "print (reshaped)"
      ]
    },
    {
      "cell_type": "markdown",
      "metadata": {
        "id": "5wnwacZXtfnd"
      },
      "source": [
        "iii) utilisez la fonction \"imshow\" du sous-module pyplot du module matplotlib. Pour avoir un affichage au niveau de gris de l'image, ajoutez \"import matplotlib as mpl\" et puis \"cmap=mpl.cm.binary\" comme deuxième argument de la fonction \"imshow\". De quel chiffre s'agit-t-il ?"
      ]
    },
    {
      "cell_type": "code",
      "execution_count": 48,
      "metadata": {
        "colab": {
          "base_uri": "https://localhost:8080/",
          "height": 430
        },
        "id": "XZ5d0r-h5P12",
        "outputId": "a0a98b06-cef2-4f7b-f92e-1463d7ddfe9a"
      },
      "outputs": [
        {
          "output_type": "display_data",
          "data": {
            "text/plain": [
              "<Figure size 640x480 with 1 Axes>"
            ],
            "image/png": "[encoded data removed]"
          },
          "metadata": {}
        }
      ],
      "source": [
        "# Affichage de l'image en niveau de gris\n",
        "import matplotlib.pyplot as plt\n",
        "import matplotlib as mpl\n",
        "\n",
        "plt.imshow(reshaped, cmap=mpl.cm.binary)\n",
        "plt.show()"
      ]
    },
    {
      "cell_type": "markdown",
      "metadata": {
        "id": "aJp_wnPpwARk"
      },
      "source": [
        "Je pense reconnaître un 5."
      ]
    },
    {
      "cell_type": "markdown",
      "metadata": {
        "id": "B5eeJLast2iN"
      },
      "source": [
        "b) Affichez la classe réelle (souhaitée) de la première instance\n",
        "\n",
        "c) Affichez le type (avec la fonction \"type\") de la première instance"
      ]
    },
    {
      "cell_type": "code",
      "execution_count": 49,
      "metadata": {
        "colab": {
          "base_uri": "https://localhost:8080/"
        },
        "id": "J9cTm5Wct77v",
        "outputId": "ddabb54e-de9f-4508-b4cf-799eda87373d"
      },
      "outputs": [
        {
          "output_type": "stream",
          "name": "stdout",
          "text": [
            "Classe réelle de la première instance : 5\n",
            "Type de la première instance : <class 'numpy.ndarray'>\n"
          ]
        }
      ],
      "source": [
        "#b) Affichage de la classe réelle (souhaitée) de la première instance\n",
        "print(\"Classe réelle de la première instance :\", Y[0])\n",
        "\n",
        "#c) Affichage du type de la première instance\n",
        "print(\"Type de la première instance :\", type(X.values[0]))"
      ]
    },
    {
      "cell_type": "markdown",
      "metadata": {
        "id": "vO07qDu9ODmM"
      },
      "source": [
        "Q9) A travers la question 9, vous avez dû remarquer que le type des labels est une chaîne de caractères. Il est préférable, dans les projets d'apprentissage automatique, d'utiliser des valeurs numériques. Par conséquent, appliquez le casting sur les labels via le code suivant :\n",
        "Y = Y.astype(np.uint8)"
      ]
    },
    {
      "cell_type": "code",
      "execution_count": 50,
      "metadata": {
        "id": "xBVs1_I9WBvI"
      },
      "outputs": [],
      "source": [
        "Y=Y.astype(np.uint8)"
      ]
    },
    {
      "cell_type": "markdown",
      "metadata": {
        "id": "LpbxH_qZOJGv"
      },
      "source": [
        "###  2 - Répartition des données"
      ]
    },
    {
      "cell_type": "markdown",
      "metadata": {
        "id": "hunOfbExON22"
      },
      "source": [
        "Q10) Créez un titre, intitulé 2- Répartition des données\n",
        "\n",
        "Q11) Répartissez les données de la base de données MNIST comme suit tout en stockant les données de test/d'apprentissage et les classes de test/d'apprentissage dans 4 variables. Ce code peut se faire en une seule ligne et sans boucles en python (lien utile) :\n",
        "\n",
        "a) Les 60 000 premières images composeront la base d'apprentissage\n",
        "\n",
        "b) Le reste des images constitue la base de test.\n"
      ]
    },
    {
      "cell_type": "code",
      "execution_count": 51,
      "metadata": {
        "colab": {
          "base_uri": "https://localhost:8080/"
        },
        "id": "plb9XJQ1WKQI",
        "outputId": "6b70dee3-cd4e-433d-c366-c9afe6926bfa"
      },
      "outputs": [
        {
          "output_type": "stream",
          "name": "stdout",
          "text": [
            "Taille de la base d'apprentissage (X_train) : (60000, 784)\n",
            "Taille de la base de test (X_test) : (10000, 784)\n",
            "Taille des classes d'apprentissage (Y_train) : (60000,)\n",
            "Taille des classes de test (Y_test) : (10000,)\n"
          ]
        }
      ],
      "source": [
        "#Q11)\n",
        "#a) b) Répartition des données en apprentissage et test\n",
        "\n",
        "#X_train, X_test = X[:60000], X[60000:]\n",
        "#Y_train, Y_test = Y[:60000], Y[60000:]\n",
        "X_train, X_test, Y_train, Y_test = X[:60000], X[60000:], Y[:60000], Y[60000:]\n",
        "\n",
        "# Affichage des tailles des ensembles d'apprentissage et de test\n",
        "print(\"Taille de la base d'apprentissage (X_train) :\", X_train.shape)\n",
        "print(\"Taille de la base de test (X_test) :\", X_test.shape)\n",
        "print(\"Taille des classes d'apprentissage (Y_train) :\", Y_train.shape)\n",
        "print(\"Taille des classes de test (Y_test) :\", Y_test.shape)"
      ]
    },
    {
      "cell_type": "markdown",
      "metadata": {
        "id": "l2gvCmrROXXx"
      },
      "source": [
        "# II - Apprentissage d'un classifieur multi-classes"
      ]
    },
    {
      "cell_type": "markdown",
      "metadata": {
        "id": "1Ez91BDPOcbm"
      },
      "source": [
        "Comme indiqué dans les objectifs, ce TP vise à classifier les chiffres. Dans cette partie, nous allons apprendre un classifieur à classifier les 10 classes (les chiffres de 0 à 9) de la base de données MNIST\n",
        "\n",
        "Q12) Créez un titre, avec une grande taille de police, intitulé III- Apprentissage d'un classifieur multi-classes\n"
      ]
    },
    {
      "cell_type": "markdown",
      "metadata": {
        "id": "2EeKuXsJOhRr"
      },
      "source": [
        "### 1 - Apprentissage des données"
      ]
    },
    {
      "cell_type": "markdown",
      "metadata": {
        "id": "3DDeSx78OnuH"
      },
      "source": [
        "Q13) Créez un titre, intitulé 2- Apprentissage des données\n",
        "\n",
        "Q14) Pour l'apprentissage des données, nous allons utiliser le classifieur Stochastic Gradient Descent (SGD). Pour ce faire :\n",
        "\n",
        "a) créez un objet de la classe SGDClassifier de Scikit-Learn. Cette classe est à importer du sous-module linear_model du module Scikit-Learn\n"
      ]
    },
    {
      "cell_type": "code",
      "execution_count": 52,
      "metadata": {
        "id": "bSCDvU6IWQRO"
      },
      "outputs": [],
      "source": [
        "#Q14)\n",
        "#a) Importation de la classe SGDClassifier\n",
        "from sklearn.linear_model import SGDClassifier\n",
        "\n",
        "# Création de l'objet SGDClassifier\n",
        "sgd_clf = SGDClassifier()"
      ]
    },
    {
      "cell_type": "markdown",
      "metadata": {
        "id": "2WoXC_KO405S"
      },
      "source": [
        "b) appliquez la méthode fit sur cet objet en donnant comme arguments les données d'apprentissages et leurs labels (ceux de la question 11)"
      ]
    },
    {
      "cell_type": "code",
      "execution_count": 53,
      "metadata": {
        "colab": {
          "base_uri": "https://localhost:8080/",
          "height": 80
        },
        "id": "kqMosyfT4mhA",
        "outputId": "d25b74d6-1aa4-45cc-e6ea-bf74e5163734"
      },
      "outputs": [
        {
          "output_type": "execute_result",
          "data": {
            "text/plain": [
              "SGDClassifier()"
            ],
            "text/html": [
              "<style>#sk-container-id-2 {\n",
              "  /* Definition of color scheme common for light and dark mode */\n",
              "  --sklearn-color-text: #000;\n",
              "  --sklearn-color-text-muted: #666;\n",
              "  --sklearn-color-line: gray;\n",
              "  /* Definition of color scheme for unfitted estimators */\n",
              "  --sklearn-color-unfitted-level-0: #fff5e6;\n",
              "  --sklearn-color-unfitted-level-1: #f6e4d2;\n",
              "  --sklearn-color-unfitted-level-2: #ffe0b3;\n",
              "  --sklearn-color-unfitted-level-3: chocolate;\n",
              "  /* Definition of color scheme for fitted estimators */\n",
              "  --sklearn-color-fitted-level-0: #f0f8ff;\n",
              "  --sklearn-color-fitted-level-1: #d4ebff;\n",
              "  --sklearn-color-fitted-level-2: #b3dbfd;\n",
              "  --sklearn-color-fitted-level-3: cornflowerblue;\n",
              "\n",
              "  /* Specific color for light theme */\n",
              "  --sklearn-color-text-on-default-background: var(--sg-text-color, var(--theme-code-foreground, var(--jp-content-font-color1, black)));\n",
              "  --sklearn-color-background: var(--sg-background-color, var(--theme-background, var(--jp-layout-color0, white)));\n",
              "  --sklearn-color-border-box: var(--sg-text-color, var(--theme-code-foreground, var(--jp-content-font-color1, black)));\n",
              "  --sklearn-color-icon: #696969;\n",
              "\n",
              "  @media (prefers-color-scheme: dark) {\n",
              "    /* Redefinition of color scheme for dark theme */\n",
              "    --sklearn-color-text-on-default-background: var(--sg-text-color, var(--theme-code-foreground, var(--jp-content-font-color1, white)));\n",
              "    --sklearn-color-background: var(--sg-background-color, var(--theme-background, var(--jp-layout-color0, #111)));\n",
              "    --sklearn-color-border-box: var(--sg-text-color, var(--theme-code-foreground, var(--jp-content-font-color1, white)));\n",
              "    --sklearn-color-icon: #878787;\n",
              "  }\n",
              "}\n",
              "\n",
              "#sk-container-id-2 {\n",
              "  color: var(--sklearn-color-text);\n",
              "}\n",
              "\n",
              "#sk-container-id-2 pre {\n",
              "  padding: 0;\n",
              "}\n",
              "\n",
              "#sk-container-id-2 input.sk-hidden--visually {\n",
              "  border: 0;\n",
              "  clip: rect(1px 1px 1px 1px);\n",
              "  clip: rect(1px, 1px, 1px, 1px);\n",
              "  height: 1px;\n",
              "  margin: -1px;\n",
              "  overflow: hidden;\n",
              "  padding: 0;\n",
              "  position: absolute;\n",
              "  width: 1px;\n",
              "}\n",
              "\n",
              "#sk-container-id-2 div.sk-dashed-wrapped {\n",
              "  border: 1px dashed var(--sklearn-color-line);\n",
              "  margin: 0 0.4em 0.5em 0.4em;\n",
              "  box-sizing: border-box;\n",
              "  padding-bottom: 0.4em;\n",
              "  background-color: var(--sklearn-color-background);\n",
              "}\n",
              "\n",
              "#sk-container-id-2 div.sk-container {\n",
              "  /* jupyter's `normalize.less` sets `[hidden] { display: none; }`\n",
              "     but bootstrap.min.css set `[hidden] { display: none !important; }`\n",
              "     so we also need the `!important` here to be able to override the\n",
              "     default hidden behavior on the sphinx rendered scikit-learn.org.\n",
              "     See: https://github.com/scikit-learn/scikit-learn/issues/21755 */\n",
              "  display: inline-block !important;\n",
              "  position: relative;\n",
              "}\n",
              "\n",
              "#sk-container-id-2 div.sk-text-repr-fallback {\n",
              "  display: none;\n",
              "}\n",
              "\n",
              "div.sk-parallel-item,\n",
              "div.sk-serial,\n",
              "div.sk-item {\n",
              "  /* draw centered vertical line to link estimators */\n",
              "  background-image: linear-gradient(var(--sklearn-color-text-on-default-background), var(--sklearn-color-text-on-default-background));\n",
              "  background-size: 2px 100%;\n",
              "  background-repeat: no-repeat;\n",
              "  background-position: center center;\n",
              "}\n",
              "\n",
              "/* Parallel-specific style estimator block */\n",
              "\n",
              "#sk-container-id-2 div.sk-parallel-item::after {\n",
              "  content: \"\";\n",
              "  width: 100%;\n",
              "  border-bottom: 2px solid var(--sklearn-color-text-on-default-background);\n",
              "  flex-grow: 1;\n",
              "}\n",
              "\n",
              "#sk-container-id-2 div.sk-parallel {\n",
              "  display: flex;\n",
              "  align-items: stretch;\n",
              "  justify-content: center;\n",
              "  background-color: var(--sklearn-color-background);\n",
              "  position: relative;\n",
              "}\n",
              "\n",
              "#sk-container-id-2 div.sk-parallel-item {\n",
              "  display: flex;\n",
              "  flex-direction: column;\n",
              "}\n",
              "\n",
              "#sk-container-id-2 div.sk-parallel-item:first-child::after {\n",
              "  align-self: flex-end;\n",
              "  width: 50%;\n",
              "}\n",
              "\n",
              "#sk-container-id-2 div.sk-parallel-item:last-child::after {\n",
              "  align-self: flex-start;\n",
              "  width: 50%;\n",
              "}\n",
              "\n",
              "#sk-container-id-2 div.sk-parallel-item:only-child::after {\n",
              "  width: 0;\n",
              "}\n",
              "\n",
              "/* Serial-specific style estimator block */\n",
              "\n",
              "#sk-container-id-2 div.sk-serial {\n",
              "  display: flex;\n",
              "  flex-direction: column;\n",
              "  align-items: center;\n",
              "  background-color: var(--sklearn-color-background);\n",
              "  padding-right: 1em;\n",
              "  padding-left: 1em;\n",
              "}\n",
              "\n",
              "\n",
              "/* Toggleable style: style used for estimator/Pipeline/ColumnTransformer box that is\n",
              "clickable and can be expanded/collapsed.\n",
              "- Pipeline and ColumnTransformer use this feature and define the default style\n",
              "- Estimators will overwrite some part of the style using the `sk-estimator` class\n",
              "*/\n",
              "\n",
              "/* Pipeline and ColumnTransformer style (default) */\n",
              "\n",
              "#sk-container-id-2 div.sk-toggleable {\n",
              "  /* Default theme specific background. It is overwritten whether we have a\n",
              "  specific estimator or a Pipeline/ColumnTransformer */\n",
              "  background-color: var(--sklearn-color-background);\n",
              "}\n",
              "\n",
              "/* Toggleable label */\n",
              "#sk-container-id-2 label.sk-toggleable__label {\n",
              "  cursor: pointer;\n",
              "  display: flex;\n",
              "  width: 100%;\n",
              "  margin-bottom: 0;\n",
              "  padding: 0.5em;\n",
              "  box-sizing: border-box;\n",
              "  text-align: center;\n",
              "  align-items: start;\n",
              "  justify-content: space-between;\n",
              "  gap: 0.5em;\n",
              "}\n",
              "\n",
              "#sk-container-id-2 label.sk-toggleable__label .caption {\n",
              "  font-size: 0.6rem;\n",
              "  font-weight: lighter;\n",
              "  color: var(--sklearn-color-text-muted);\n",
              "}\n",
              "\n",
              "#sk-container-id-2 label.sk-toggleable__label-arrow:before {\n",
              "  /* Arrow on the left of the label */\n",
              "  content: \"▸\";\n",
              "  float: left;\n",
              "  margin-right: 0.25em;\n",
              "  color: var(--sklearn-color-icon);\n",
              "}\n",
              "\n",
              "#sk-container-id-2 label.sk-toggleable__label-arrow:hover:before {\n",
              "  color: var(--sklearn-color-text);\n",
              "}\n",
              "\n",
              "/* Toggleable content - dropdown */\n",
              "\n",
              "#sk-container-id-2 div.sk-toggleable__content {\n",
              "  max-height: 0;\n",
              "  max-width: 0;\n",
              "  overflow: hidden;\n",
              "  text-align: left;\n",
              "  /* unfitted */\n",
              "  background-color: var(--sklearn-color-unfitted-level-0);\n",
              "}\n",
              "\n",
              "#sk-container-id-2 div.sk-toggleable__content.fitted {\n",
              "  /* fitted */\n",
              "  background-color: var(--sklearn-color-fitted-level-0);\n",
              "}\n",
              "\n",
              "#sk-container-id-2 div.sk-toggleable__content pre {\n",
              "  margin: 0.2em;\n",
              "  border-radius: 0.25em;\n",
              "  color: var(--sklearn-color-text);\n",
              "  /* unfitted */\n",
              "  background-color: var(--sklearn-color-unfitted-level-0);\n",
              "}\n",
              "\n",
              "#sk-container-id-2 div.sk-toggleable__content.fitted pre {\n",
              "  /* unfitted */\n",
              "  background-color: var(--sklearn-color-fitted-level-0);\n",
              "}\n",
              "\n",
              "#sk-container-id-2 input.sk-toggleable__control:checked~div.sk-toggleable__content {\n",
              "  /* Expand drop-down */\n",
              "  max-height: 200px;\n",
              "  max-width: 100%;\n",
              "  overflow: auto;\n",
              "}\n",
              "\n",
              "#sk-container-id-2 input.sk-toggleable__control:checked~label.sk-toggleable__label-arrow:before {\n",
              "  content: \"▾\";\n",
              "}\n",
              "\n",
              "/* Pipeline/ColumnTransformer-specific style */\n",
              "\n",
              "#sk-container-id-2 div.sk-label input.sk-toggleable__control:checked~label.sk-toggleable__label {\n",
              "  color: var(--sklearn-color-text);\n",
              "  background-color: var(--sklearn-color-unfitted-level-2);\n",
              "}\n",
              "\n",
              "#sk-container-id-2 div.sk-label.fitted input.sk-toggleable__control:checked~label.sk-toggleable__label {\n",
              "  background-color: var(--sklearn-color-fitted-level-2);\n",
              "}\n",
              "\n",
              "/* Estimator-specific style */\n",
              "\n",
              "/* Colorize estimator box */\n",
              "#sk-container-id-2 div.sk-estimator input.sk-toggleable__control:checked~label.sk-toggleable__label {\n",
              "  /* unfitted */\n",
              "  background-color: var(--sklearn-color-unfitted-level-2);\n",
              "}\n",
              "\n",
              "#sk-container-id-2 div.sk-estimator.fitted input.sk-toggleable__control:checked~label.sk-toggleable__label {\n",
              "  /* fitted */\n",
              "  background-color: var(--sklearn-color-fitted-level-2);\n",
              "}\n",
              "\n",
              "#sk-container-id-2 div.sk-label label.sk-toggleable__label,\n",
              "#sk-container-id-2 div.sk-label label {\n",
              "  /* The background is the default theme color */\n",
              "  color: var(--sklearn-color-text-on-default-background);\n",
              "}\n",
              "\n",
              "/* On hover, darken the color of the background */\n",
              "#sk-container-id-2 div.sk-label:hover label.sk-toggleable__label {\n",
              "  color: var(--sklearn-color-text);\n",
              "  background-color: var(--sklearn-color-unfitted-level-2);\n",
              "}\n",
              "\n",
              "/* Label box, darken color on hover, fitted */\n",
              "#sk-container-id-2 div.sk-label.fitted:hover label.sk-toggleable__label.fitted {\n",
              "  color: var(--sklearn-color-text);\n",
              "  background-color: var(--sklearn-color-fitted-level-2);\n",
              "}\n",
              "\n",
              "/* Estimator label */\n",
              "\n",
              "#sk-container-id-2 div.sk-label label {\n",
              "  font-family: monospace;\n",
              "  font-weight: bold;\n",
              "  display: inline-block;\n",
              "  line-height: 1.2em;\n",
              "}\n",
              "\n",
              "#sk-container-id-2 div.sk-label-container {\n",
              "  text-align: center;\n",
              "}\n",
              "\n",
              "/* Estimator-specific */\n",
              "#sk-container-id-2 div.sk-estimator {\n",
              "  font-family: monospace;\n",
              "  border: 1px dotted var(--sklearn-color-border-box);\n",
              "  border-radius: 0.25em;\n",
              "  box-sizing: border-box;\n",
              "  margin-bottom: 0.5em;\n",
              "  /* unfitted */\n",
              "  background-color: var(--sklearn-color-unfitted-level-0);\n",
              "}\n",
              "\n",
              "#sk-container-id-2 div.sk-estimator.fitted {\n",
              "  /* fitted */\n",
              "  background-color: var(--sklearn-color-fitted-level-0);\n",
              "}\n",
              "\n",
              "/* on hover */\n",
              "#sk-container-id-2 div.sk-estimator:hover {\n",
              "  /* unfitted */\n",
              "  background-color: var(--sklearn-color-unfitted-level-2);\n",
              "}\n",
              "\n",
              "#sk-container-id-2 div.sk-estimator.fitted:hover {\n",
              "  /* fitted */\n",
              "  background-color: var(--sklearn-color-fitted-level-2);\n",
              "}\n",
              "\n",
              "/* Specification for estimator info (e.g. \"i\" and \"?\") */\n",
              "\n",
              "/* Common style for \"i\" and \"?\" */\n",
              "\n",
              ".sk-estimator-doc-link,\n",
              "a:link.sk-estimator-doc-link,\n",
              "a:visited.sk-estimator-doc-link {\n",
              "  float: right;\n",
              "  font-size: smaller;\n",
              "  line-height: 1em;\n",
              "  font-family: monospace;\n",
              "  background-color: var(--sklearn-color-background);\n",
              "  border-radius: 1em;\n",
              "  height: 1em;\n",
              "  width: 1em;\n",
              "  text-decoration: none !important;\n",
              "  margin-left: 0.5em;\n",
              "  text-align: center;\n",
              "  /* unfitted */\n",
              "  border: var(--sklearn-color-unfitted-level-1) 1pt solid;\n",
              "  color: var(--sklearn-color-unfitted-level-1);\n",
              "}\n",
              "\n",
              ".sk-estimator-doc-link.fitted,\n",
              "a:link.sk-estimator-doc-link.fitted,\n",
              "a:visited.sk-estimator-doc-link.fitted {\n",
              "  /* fitted */\n",
              "  border: var(--sklearn-color-fitted-level-1) 1pt solid;\n",
              "  color: var(--sklearn-color-fitted-level-1);\n",
              "}\n",
              "\n",
              "/* On hover */\n",
              "div.sk-estimator:hover .sk-estimator-doc-link:hover,\n",
              ".sk-estimator-doc-link:hover,\n",
              "div.sk-label-container:hover .sk-estimator-doc-link:hover,\n",
              ".sk-estimator-doc-link:hover {\n",
              "  /* unfitted */\n",
              "  background-color: var(--sklearn-color-unfitted-level-3);\n",
              "  color: var(--sklearn-color-background);\n",
              "  text-decoration: none;\n",
              "}\n",
              "\n",
              "div.sk-estimator.fitted:hover .sk-estimator-doc-link.fitted:hover,\n",
              ".sk-estimator-doc-link.fitted:hover,\n",
              "div.sk-label-container:hover .sk-estimator-doc-link.fitted:hover,\n",
              ".sk-estimator-doc-link.fitted:hover {\n",
              "  /* fitted */\n",
              "  background-color: var(--sklearn-color-fitted-level-3);\n",
              "  color: var(--sklearn-color-background);\n",
              "  text-decoration: none;\n",
              "}\n",
              "\n",
              "/* Span, style for the box shown on hovering the info icon */\n",
              ".sk-estimator-doc-link span {\n",
              "  display: none;\n",
              "  z-index: 9999;\n",
              "  position: relative;\n",
              "  font-weight: normal;\n",
              "  right: .2ex;\n",
              "  padding: .5ex;\n",
              "  margin: .5ex;\n",
              "  width: min-content;\n",
              "  min-width: 20ex;\n",
              "  max-width: 50ex;\n",
              "  color: var(--sklearn-color-text);\n",
              "  box-shadow: 2pt 2pt 4pt #999;\n",
              "  /* unfitted */\n",
              "  background: var(--sklearn-color-unfitted-level-0);\n",
              "  border: .5pt solid var(--sklearn-color-unfitted-level-3);\n",
              "}\n",
              "\n",
              ".sk-estimator-doc-link.fitted span {\n",
              "  /* fitted */\n",
              "  background: var(--sklearn-color-fitted-level-0);\n",
              "  border: var(--sklearn-color-fitted-level-3);\n",
              "}\n",
              "\n",
              ".sk-estimator-doc-link:hover span {\n",
              "  display: block;\n",
              "}\n",
              "\n",
              "/* \"?\"-specific style due to the `<a>` HTML tag */\n",
              "\n",
              "#sk-container-id-2 a.estimator_doc_link {\n",
              "  float: right;\n",
              "  font-size: 1rem;\n",
              "  line-height: 1em;\n",
              "  font-family: monospace;\n",
              "  background-color: var(--sklearn-color-background);\n",
              "  border-radius: 1rem;\n",
              "  height: 1rem;\n",
              "  width: 1rem;\n",
              "  text-decoration: none;\n",
              "  /* unfitted */\n",
              "  color: var(--sklearn-color-unfitted-level-1);\n",
              "  border: var(--sklearn-color-unfitted-level-1) 1pt solid;\n",
              "}\n",
              "\n",
              "#sk-container-id-2 a.estimator_doc_link.fitted {\n",
              "  /* fitted */\n",
              "  border: var(--sklearn-color-fitted-level-1) 1pt solid;\n",
              "  color: var(--sklearn-color-fitted-level-1);\n",
              "}\n",
              "\n",
              "/* On hover */\n",
              "#sk-container-id-2 a.estimator_doc_link:hover {\n",
              "  /* unfitted */\n",
              "  background-color: var(--sklearn-color-unfitted-level-3);\n",
              "  color: var(--sklearn-color-background);\n",
              "  text-decoration: none;\n",
              "}\n",
              "\n",
              "#sk-container-id-2 a.estimator_doc_link.fitted:hover {\n",
              "  /* fitted */\n",
              "  background-color: var(--sklearn-color-fitted-level-3);\n",
              "}\n",
              "</style><div id=\"sk-container-id-2\" class=\"sk-top-container\"><div class=\"sk-text-repr-fallback\"><pre>SGDClassifier()</pre><b>In a Jupyter environment, please rerun this cell to show the HTML representation or trust the notebook. <br />On GitHub, the HTML representation is unable to render, please try loading this page with nbviewer.org.</b></div><div class=\"sk-container\" hidden><div class=\"sk-item\"><div class=\"sk-estimator fitted sk-toggleable\"><input class=\"sk-toggleable__control sk-hidden--visually\" id=\"sk-estimator-id-2\" type=\"checkbox\" checked><label for=\"sk-estimator-id-2\" class=\"sk-toggleable__label fitted sk-toggleable__label-arrow\"><div><div>SGDClassifier</div></div><div><a class=\"sk-estimator-doc-link fitted\" rel=\"noreferrer\" target=\"_blank\" href=\"https://scikit-learn.org/1.6/modules/generated/sklearn.linear_model.SGDClassifier.html\">?<span>Documentation for SGDClassifier</span></a><span class=\"sk-estimator-doc-link fitted\">i<span>Fitted</span></span></div></label><div class=\"sk-toggleable__content fitted\"><pre>SGDClassifier()</pre></div> </div></div></div></div>"
            ]
          },
          "metadata": {},
          "execution_count": 53
        }
      ],
      "source": [
        "#b) Entraînement du modèle sur les données d'apprentissage\n",
        "sgd_clf.fit(X_train, Y_train)"
      ]
    },
    {
      "cell_type": "markdown",
      "metadata": {
        "id": "BVVdWxzzO0mO"
      },
      "source": [
        "Q15) En utilisant le modèle d'apprentissage bâti, prédisez en utilisant le code ci-dessous la classe de la première instance de la base de données (celle de la question 8-b). La prédiction va être, un chiffre de 0 à 9 :\n",
        "\n",
        "sgd_clf.predict([X.values[0]])\n"
      ]
    },
    {
      "cell_type": "code",
      "execution_count": 54,
      "metadata": {
        "colab": {
          "base_uri": "https://localhost:8080/"
        },
        "id": "H9n7Sp8IWR5y",
        "outputId": "50cd69ba-f2ee-4a21-e5b0-97495a52ae8f"
      },
      "outputs": [
        {
          "output_type": "stream",
          "name": "stdout",
          "text": [
            "Prédiction de la classe de la première instance : [5]\n"
          ]
        },
        {
          "output_type": "stream",
          "name": "stderr",
          "text": [
            "/usr/local/lib/python3.11/dist-packages/sklearn/utils/validation.py:2739: UserWarning: X does not have valid feature names, but SGDClassifier was fitted with feature names\n",
            "  warnings.warn(\n"
          ]
        }
      ],
      "source": [
        "# Prédiction de la classe de la première instance\n",
        "prediction = sgd_clf.predict([X.values[0]])\n",
        "\n",
        "print(\"Prédiction de la classe de la première instance :\", prediction)"
      ]
    },
    {
      "cell_type": "markdown",
      "metadata": {
        "id": "nZ_cQG0EO653"
      },
      "source": [
        "Q16) En utilisant l'objet qui instancie la classe SGDClassifier :\n",
        "\n",
        "a) affichez, via la méthode \"decision_function\", les 10 scores de décision utilisés par la méthode SGD pour classifier la première instance de la base de donnée ainsi que la position de leur max en utilisant numpy.argmax. Qu'est ce que vous remarquez ?"
      ]
    },
    {
      "cell_type": "code",
      "execution_count": 55,
      "metadata": {
        "colab": {
          "base_uri": "https://localhost:8080/"
        },
        "id": "puneGM1jWTxK",
        "outputId": "160fa605-2903-4ffb-d779-da697d654e6f"
      },
      "outputs": [
        {
          "output_type": "stream",
          "name": "stdout",
          "text": [
            "Scores de décision pour la première instance : [[-21086.33547062 -30403.0889762  -16346.64412374  -3660.11985126\n",
            "  -33457.7012658    1290.41346356 -30306.03429515 -16564.02596777\n",
            "   -7031.31123599 -11157.23788477]] \n",
            "\n",
            "Position du score maximum : 5 \n",
            "\n"
          ]
        },
        {
          "output_type": "stream",
          "name": "stderr",
          "text": [
            "/usr/local/lib/python3.11/dist-packages/sklearn/utils/validation.py:2739: UserWarning: X does not have valid feature names, but SGDClassifier was fitted with feature names\n",
            "  warnings.warn(\n"
          ]
        }
      ],
      "source": [
        "# a) Affichage des scores de décision et de la classe prédite\n",
        "decision_scores = sgd_clf.decision_function([X.values[0]])\n",
        "predicted_class_index = np.argmax(decision_scores)\n",
        "print(\"Scores de décision pour la première instance :\", decision_scores, \"\\n\")\n",
        "print(\"Position du score maximum :\", predicted_class_index, \"\\n\")"
      ]
    },
    {
      "cell_type": "markdown",
      "metadata": {
        "id": "TTwrZFH57s3k"
      },
      "source": [
        "La position du score le plus élevé est la valeur que le modèle estime etre le plus probable, dans notre cas : 5, la deuxième plus probable selon le modèle est 3. Il y a une part d'aléatoire dans l'entrainement et donc je peux avoir des résultats faux."
      ]
    },
    {
      "cell_type": "markdown",
      "metadata": {
        "id": "DORPcBUe6JED"
      },
      "source": [
        "b) affichez, via l'attribut \"classes_\", les différentes classes utilisées par le classifieur.\n"
      ]
    },
    {
      "cell_type": "code",
      "execution_count": 56,
      "metadata": {
        "colab": {
          "base_uri": "https://localhost:8080/"
        },
        "id": "-8USODYE6Jfc",
        "outputId": "52241df8-9836-4a03-c74f-46f4a0468ce7"
      },
      "outputs": [
        {
          "output_type": "stream",
          "name": "stdout",
          "text": [
            "Classes utilisées par le classifieur : [0 1 2 3 4 5 6 7 8 9]\n"
          ]
        }
      ],
      "source": [
        "# b) Affichage des différentes classes utilisées par le classifieur\n",
        "classes_used = sgd_clf.classes_\n",
        "print(\"Classes utilisées par le classifieur :\", classes_used)"
      ]
    },
    {
      "cell_type": "markdown",
      "metadata": {
        "id": "NOMT9hbFPDlI"
      },
      "source": [
        "### 2 - Evaluation du modèle d'apprentissage sur les données   d'apprentissage"
      ]
    },
    {
      "cell_type": "markdown",
      "metadata": {
        "id": "CDHLFGFMPHVN"
      },
      "source": [
        "Q17) Créez un titre, intitulé 2- Evaluation du modèle d'apprentissage sur les données   d'apprentissage"
      ]
    },
    {
      "cell_type": "markdown",
      "metadata": {
        "id": "omii48k8PMG4"
      },
      "source": [
        "#### 2 -1 - Taux de classification"
      ]
    },
    {
      "cell_type": "markdown",
      "metadata": {
        "id": "c2pfE1fJPShG"
      },
      "source": [
        "Q18) Créez un titre 2-1- Taux de classification\n",
        "\n",
        "Q19) Evaluez SGD en utilisant la méthode 3-fold cross-validation. Pour ce faire, utilisez la fonction \"cross_val_score\" du sous-module \"model_selection\" du module \"sklearn\". Optez pour la valeur \"accuracy\" pour l'argument \"scoring\" et affichez :\n",
        "\n",
        "a) le taux de classification (accuracy) de chaque fold\n",
        "\n",
        "b) la moyenne des taux de classification\n"
      ]
    },
    {
      "cell_type": "code",
      "execution_count": 57,
      "metadata": {
        "colab": {
          "base_uri": "https://localhost:8080/"
        },
        "id": "RZ3--JqRWVvW",
        "outputId": "0eed6e06-15c4-4e82-aa8d-055fc0abc0ec"
      },
      "outputs": [
        {
          "output_type": "stream",
          "name": "stdout",
          "text": [
            "Taux de classification de chaque fold : [0.85825 0.87725 0.86575]\n",
            "Moyenne des taux de classification : 0.8670833333333334\n"
          ]
        }
      ],
      "source": [
        "from sklearn.model_selection import cross_val_score\n",
        "\n",
        "# Calcul des taux de classification avec 3-fold cross-validation\n",
        "scores = cross_val_score(sgd_clf, X_train, Y_train, cv=3, scoring=\"accuracy\")\n",
        "\n",
        "# a) Affichage du taux de classification de chaque fold\n",
        "print(\"Taux de classification de chaque fold :\", scores)\n",
        "\n",
        "# b) Affichage de la moyenne des taux de classification\n",
        "print(\"Moyenne des taux de classification :\", scores.mean())"
      ]
    },
    {
      "cell_type": "markdown",
      "metadata": {
        "id": "NBiCL8YEPdcj"
      },
      "source": [
        "Q20) Une des techniques d'amélioration des taux de classification est le \"scaling\" (mise à l'échelle). Vérifiez ceci en appliquant une standardisation sur les données d'apprentissage comme suit :\n",
        "\n",
        "a) Instancez un objet de la classe StandardScaler (ce n'est pas une méthode de classification). Cette classe est à importer du sous-module \"preprocessing\" du module \"sklearn\". Elle permet de transformer un feature en un autre qui suit la loi normale (Gaussian Distribution)\n",
        "\n",
        "b) Appliquez, sur cet objet, la méthode \"fit_transform\" avec les données d'apprentissage comme argument  \n",
        "\n",
        "c) Évaluez le classifieur SGD sur les nouvelles données en utilisant  une validation croisée de type 3-fold cross validation. En comparant le taux de classification moyen des 3 folds, les résultats sont-ils meilleurs que ceux de la question 19 ?\n"
      ]
    },
    {
      "cell_type": "code",
      "execution_count": 58,
      "metadata": {
        "id": "TZIhTCgMWYaC",
        "colab": {
          "base_uri": "https://localhost:8080/"
        },
        "outputId": "d00dce2b-3d8a-4791-fdc7-3700610ce5fb"
      },
      "outputs": [
        {
          "output_type": "stream",
          "name": "stderr",
          "text": [
            "/usr/local/lib/python3.11/dist-packages/sklearn/linear_model/_stochastic_gradient.py:738: ConvergenceWarning: Maximum number of iteration reached before convergence. Consider increasing max_iter to improve the fit.\n",
            "  warnings.warn(\n"
          ]
        },
        {
          "output_type": "stream",
          "name": "stdout",
          "text": [
            "Taux de classification moyen après standardisation : 0.9009333333333333\n"
          ]
        }
      ],
      "source": [
        "from sklearn.preprocessing import StandardScaler\n",
        "from sklearn.pipeline import make_pipeline\n",
        "\n",
        "# a) Instanciation de l'objet StandardScaler\n",
        "scaler = StandardScaler()\n",
        "\n",
        "# b) Application de la méthode fit_transform sur les données d'apprentissage\n",
        "X_train_scaled = scaler.fit_transform(X_train)\n",
        "\n",
        "# c) Évaluation du classifieur SGD sur les nouvelles données avec une validation croisée 3-fold\n",
        "# Création d'un pipeline pour combiner la standardisation et le classifieur SGD\n",
        "pipeline = make_pipeline(StandardScaler(), sgd_clf)\n",
        "\n",
        "# Calcul des taux de classification avec 3-fold cross-validation\n",
        "scores_scaled = cross_val_score(pipeline, X_train, Y_train, cv=3, scoring=\"accuracy\")\n",
        "\n",
        "# Affichage du taux de classification moyen des 3 folds\n",
        "print(\"Taux de classification moyen après standardisation :\", scores_scaled.mean())"
      ]
    },
    {
      "cell_type": "markdown",
      "metadata": {
        "id": "wXWXOgXvPnSl"
      },
      "source": [
        "#### 2 -2 - Matrice de confusion"
      ]
    },
    {
      "cell_type": "markdown",
      "metadata": {
        "id": "0iu6aKAWPs2I"
      },
      "source": [
        "Q21) Créez un titre 2-2- Matrice de confusion\n",
        "\n",
        "Q22) En utilisant le modèle déjà construit du classifieur SGD, prédisez les classes des données d'apprentissage. Pour ce faire, utilisez la fonction \"cross_val_predict\" du sous-module \"model_selection\" du module \"sklearn\". Optez pour une validation croisée de type 3-fold cross validation. Cette fonction, contrairement à \"cross_val_score\", retourne les prédictions (0, …., 9)\n"
      ]
    },
    {
      "cell_type": "code",
      "execution_count": 59,
      "metadata": {
        "colab": {
          "base_uri": "https://localhost:8080/"
        },
        "id": "vDU3WZlMWabk",
        "outputId": "784d0066-52af-402f-e8b4-10e6e73d4819"
      },
      "outputs": [
        {
          "output_type": "stream",
          "name": "stdout",
          "text": [
            "Nombre de prédictions : 60000\n"
          ]
        }
      ],
      "source": [
        "from sklearn.model_selection import cross_val_predict\n",
        "\n",
        "# Prédiction des classes avec 3-fold cross-validation\n",
        "predicted_train = cross_val_predict(sgd_clf, X_train, Y_train, cv=3)\n",
        "\n",
        "# Affichage du nombre de prédictions\n",
        "print(\"Nombre de prédictions :\", len(predicted_train))\n"
      ]
    },
    {
      "cell_type": "code",
      "source": [
        "print(predicted_train)"
      ],
      "metadata": {
        "colab": {
          "base_uri": "https://localhost:8080/"
        },
        "id": "qngygx5aodK1",
        "outputId": "e3867da2-269e-40e0-bd42-10b5f217c47c"
      },
      "execution_count": 60,
      "outputs": [
        {
          "output_type": "stream",
          "name": "stdout",
          "text": [
            "[5 0 4 ... 5 6 8]\n"
          ]
        }
      ]
    },
    {
      "cell_type": "markdown",
      "metadata": {
        "id": "5CWXoTPNPzn6"
      },
      "source": [
        "Q23)\n",
        "\n",
        "a) Affichez la matrice de confusion du modèle d'apprentissage ainsi. Pour ce faire, utilisez la fonction \" ConfusionMatrixDisplay \" du sous-module \"metrics\" du module \"sklearn\". Comme arguments, utilisez les classes réelles et les classes prédites. La taille de la matrice de confusion, est 10x10 car on traite un problème de classification de 10 classes.\n",
        "\n",
        "b) Affichez la version normalisée de la matrice de confusion. Pour ce faire ajoutez l’argument normalize=\"true\" à la fonction \" ConfusionMatrixDisplay \". Vous pouvez également spécifier l'argument values_format=\".0%\" pour afficher les pourcentages sans décimales.\n",
        "\n",
        "c) Qu'est-ce que vous remarquez à propos de la classe 5 et 8 ?\n"
      ]
    },
    {
      "cell_type": "code",
      "execution_count": 61,
      "metadata": {
        "id": "4n0CKJPNB-_m",
        "outputId": "1ea4e806-ba92-4b83-edbc-60bd863d2458",
        "colab": {
          "base_uri": "https://localhost:8080/",
          "height": 881
        }
      },
      "outputs": [
        {
          "output_type": "display_data",
          "data": {
            "text/plain": [
              "<Figure size 640x480 with 2 Axes>"
            ],
            "image/png": "[encoded data removed]"
          },
          "metadata": {}
        },
        {
          "output_type": "display_data",
          "data": {
            "text/plain": [
              "<Figure size 640x480 with 2 Axes>"
            ],
            "image/png": "[encoded data removed]"
          },
          "metadata": {}
        }
      ],
      "source": [
        "from sklearn.model_selection import cross_val_predict\n",
        "from sklearn.metrics import ConfusionMatrixDisplay\n",
        "\n",
        "# Predicting classes using 3-fold cross-validation\n",
        "predicted_train = cross_val_predict(sgd_clf, X_train, Y_train, cv=3)\n",
        "\n",
        "# a) Displaying the confusion matrix\n",
        "ConfusionMatrixDisplay.from_estimator(sgd_clf, X_train, Y_train)\n",
        "plt.show()\n",
        "\n",
        "# b) Displaying the normalized confusion matrix\n",
        "ConfusionMatrixDisplay.from_estimator(sgd_clf, X_train, Y_train, normalize=\"true\", values_format=\".0%\")\n",
        "plt.show()\n"
      ]
    },
    {
      "cell_type": "markdown",
      "source": [
        "Classe 5 :  \n",
        "Précision : La classe 5 semble avoir un taux de classification correcte relativement élevé, comme l'indique la diagonale de la matrice de confusion. Cependant, il y a des confusions notables avec d'autres classes, en particulier avec la classe 8.\n",
        "Confusions : Il y a des cas où des instances de la classe 5 sont prédites comme étant de la classe 8, et vice versa. Cela est visible dans les valeurs hors diagonale correspondant aux colonnes et lignes des classes 5 et 8.\n",
        "\n",
        "Classe 8 :  \n",
        "Précision : La classe 8 montre également un bon taux de classification correcte, mais il y a des erreurs de prédiction.\n",
        "Confusions : Il y a des confusions avec la classe 5, ainsi qu'avec d'autres classes comme 3 et 9. Les valeurs hors diagonale indiquent que certaines instances de la classe 8 sont prédites comme étant d'autres classes, et vice versa.\n",
        "\n",
        "Similarité Visuelle : Les chiffres 5 et 8 peuvent se ressembler visuellement, surtout lorsqu'ils sont écrits à la main, ce qui peut expliquer pourquoi le classifieur les confond parfois."
      ],
      "metadata": {
        "id": "UreJnpEj1pZU"
      }
    },
    {
      "cell_type": "markdown",
      "metadata": {
        "id": "zKpVNWP2P8qm"
      },
      "source": [
        "#### 2 -2 - Précision et rappel"
      ]
    },
    {
      "cell_type": "markdown",
      "metadata": {
        "id": "QLGUpuwaQCI9"
      },
      "source": [
        "Q24) Créez un titre 2-3- Précision et rappel\n",
        "\n",
        "Q25) Calculez la précision, le rappel et le score F1 du modèle d'apprentissage en utilisant les fonctions \"precision_score\" et \"recall_score\" et \"f1_score\" du sous-module \"metrics\" du module \"sklearn\". Interprétez les résultats.\n"
      ]
    },
    {
      "cell_type": "code",
      "execution_count": 62,
      "metadata": {
        "id": "6OnLt1J7WebF",
        "colab": {
          "base_uri": "https://localhost:8080/"
        },
        "outputId": "23503f07-3a7e-4b90-92dc-477f157de0ef"
      },
      "outputs": [
        {
          "output_type": "stream",
          "name": "stdout",
          "text": [
            "Précision : 0.8717527871285039\n",
            "Rappel : 0.86695\n",
            "Score F1 : 0.867789012577206\n"
          ]
        }
      ],
      "source": [
        "from sklearn.metrics import precision_score, recall_score, f1_score\n",
        "\n",
        "# Calcul de la précision\n",
        "precision = precision_score(Y_train, predicted_train, average='weighted')\n",
        "\n",
        "# Calcul du rappel\n",
        "recall = recall_score(Y_train, predicted_train, average='weighted')\n",
        "\n",
        "# Calcul du score F1\n",
        "f1 = f1_score(Y_train, predicted_train, average='weighted')\n",
        "\n",
        "# Affichage des résultats\n",
        "print(\"Précision :\", precision)\n",
        "print(\"Rappel :\", recall)\n",
        "print(\"Score F1 :\", f1)\n"
      ]
    },
    {
      "cell_type": "markdown",
      "metadata": {
        "id": "IaigULIYQMdT"
      },
      "source": [
        "# III - Classification multi-label"
      ]
    },
    {
      "cell_type": "markdown",
      "metadata": {
        "id": "k3h6on3DQSJO"
      },
      "source": [
        "Dans quelques cas, le classifieur doit affecter plusieurs classes à une instance."
      ]
    },
    {
      "cell_type": "markdown",
      "metadata": {
        "id": "spBw-fhPQVsA"
      },
      "source": [
        "Q26) Créez un titre, avec une grande taille de police, intitulé IV- Classification multi-label\n",
        "\n",
        "Q27) Suivez les étapes suivantes pour créer un vecteur multi-label\n",
        "\n",
        "a) Ecrivez un code qui stocke dans une variable True si les labels de la base d'apprentissage sont supérieurs à 7 et False sinon\n",
        "\n",
        "b) Ecrivez un code qui stocke dans une variable True si les labels de la base d'apprentissage sont impaires\n",
        "\n",
        "c) Concaténez les deux vecteurs via la fonction \"c_\" du module numpy\n"
      ]
    },
    {
      "cell_type": "code",
      "execution_count": 63,
      "metadata": {
        "colab": {
          "base_uri": "https://localhost:8080/"
        },
        "id": "Nf9YHwuIWhns",
        "outputId": "a6721950-4459-42f2-a16b-3509aa681bbc"
      },
      "outputs": [
        {
          "output_type": "stream",
          "name": "stdout",
          "text": [
            "Premières valeurs du vecteur multi-label :\n",
            " [[False  True]\n",
            " [False False]\n",
            " [False False]\n",
            " [False  True]\n",
            " [ True  True]\n",
            " [False False]\n",
            " [False  True]\n",
            " [False  True]\n",
            " [False  True]\n",
            " [False False]]\n"
          ]
        }
      ],
      "source": [
        "import numpy as np\n",
        "\n",
        "# a) Stockage dans une variable True si les labels sont supérieurs à 7, False sinon\n",
        "labels_sup_7 = (Y_train > 7)\n",
        "\n",
        "# b) Stockage dans une variable True si les labels sont impairs\n",
        "labels_impairs = (Y_train % 2 != 0)\n",
        "\n",
        "# c) Concaténation des deux vecteurs\n",
        "multi_label_vector = np.c_[labels_sup_7, labels_impairs]\n",
        "\n",
        "# Affichage des premières valeurs du vecteur multi-label\n",
        "print(\"Premières valeurs du vecteur multi-label :\\n\", multi_label_vector[:10])\n"
      ]
    },
    {
      "cell_type": "markdown",
      "metadata": {
        "id": "pzkdhXzjQpGo"
      },
      "source": [
        "Q28) Dans cette partie, vous allez utiliser la méthode de classification K-plus proche voisin vu qu'elle supporte la classification multi label :\n",
        "\n",
        "a) Créez un objet de la classe KNeighborsClassifier. Cette classe existe dans le sous-module neighbors du module sklearn\n",
        "\n",
        "b) Appliquez la méthode fit sur l'objet déjà créé en donnant comme argument la base d'apprentissage et le vecteur multi-label\n",
        "\n",
        "c) Via le modèle d'apprentissage bâti, prédisez la classe de la première instance de la base de données (celle de la question 9). La prédiction va être, cette fois-ci, un vecteur de deux labels et chaque label est binaire (False ou True). La prédiction était correcte ?\n"
      ]
    },
    {
      "cell_type": "code",
      "execution_count": 64,
      "metadata": {
        "colab": {
          "base_uri": "https://localhost:8080/"
        },
        "id": "3X65M0upWifX",
        "outputId": "dc1aae80-aed4-408c-ad24-82c3b780daf1"
      },
      "outputs": [
        {
          "output_type": "stream",
          "name": "stderr",
          "text": [
            "/usr/local/lib/python3.11/dist-packages/sklearn/utils/validation.py:2739: UserWarning: X does not have valid feature names, but KNeighborsClassifier was fitted with feature names\n",
            "  warnings.warn(\n"
          ]
        },
        {
          "output_type": "stream",
          "name": "stdout",
          "text": [
            "Prédiction de la classe de la première instance (vecteur multi-label) : [[False  True]]\n"
          ]
        }
      ],
      "source": [
        "from sklearn.neighbors import KNeighborsClassifier\n",
        "\n",
        "# a) Création de l'objet KNeighborsClassifier\n",
        "knn_clf = KNeighborsClassifier()\n",
        "\n",
        "# b) Entraînement du modèle sur la base d'apprentissage et le vecteur multi-label\n",
        "knn_clf.fit(X_train, multi_label_vector)\n",
        "\n",
        "# c) Prédiction de la classe de la première instance de la base de données\n",
        "prediction_multi_label = knn_clf.predict([X.values[0]])\n",
        "\n",
        "# Affichage de la prédiction\n",
        "print(\"Prédiction de la classe de la première instance (vecteur multi-label) :\", prediction_multi_label)\n"
      ]
    },
    {
      "cell_type": "markdown",
      "metadata": {
        "id": "qADFhYudQy-7"
      },
      "source": [
        "Q29) Pour tester le modèle d'apprentissage, vous pouvez utiliser une validation croisée et un des scores de la classification : taux de classification, precision, recall ou F1_score … .\n",
        "\n",
        "Vous n'êtes pas censé faire cette étape vu que ça va nécessiter un temps chronophage de calcul.  "
      ]
    },
    {
      "cell_type": "markdown",
      "metadata": {
        "id": "b8GSdwdmRSyK"
      },
      "source": [
        "# IV - Classification multi-output"
      ]
    },
    {
      "cell_type": "markdown",
      "metadata": {
        "id": "ML9ONiwVRaGR"
      },
      "source": [
        "La classification multi-output est une généralisation de la classification multi-label. Autrement dit, chaque label peut être multi-classe (le label aura plus que deux valeurs possibles). L'objectif de cette partie est de faire apprendre au classifieur à supprimer le bruit d'une image. L'input va être une image bruitée et l'output va être une image sans bruit représentée par un tableau des intensités de pixels (des valeurs de 0 à 255), d'où l'aspect multi-output de la classification. Dans ce cas, l'input et l'output auront la même taille.\n",
        "\n",
        "Q30) Créez un titre, avec une grande taille de police, intitulé V- Classification multi-output\n",
        "\n",
        "Q31) Ajoutez du bruit aux images d'apprentissage en suivant les étapes suivantes :\n",
        "\n",
        "a) Créez un vecteur de bruit qui a la longueur de la base d'apprentissage comme suit :\n",
        "noise_train = np.random.randint(0, 100, (len(X_train), 784))\n",
        "\n",
        "b) Ajoutez ce bruit avec une simple addition à la base d'apprentissage\n"
      ]
    },
    {
      "cell_type": "code",
      "execution_count": 91,
      "metadata": {
        "id": "2oCtKWqgWmRy"
      },
      "outputs": [],
      "source": [
        "import numpy as np\n",
        "\n",
        "# a) Création d'un vecteur de bruit\n",
        "noise_train = np.random.randint(0, 100, (len(X_train), 784))\n",
        "\n",
        "# b) Ajout du bruit à la base d'apprentissage\n",
        "X_train_noisy = X_train + noise_train"
      ]
    },
    {
      "cell_type": "markdown",
      "metadata": {
        "id": "ikOeDMt8Rsn-"
      },
      "source": [
        "Q32) Ajoutez du bruit aux images de test en suivant les étapes suivantes :\n",
        "\n",
        "a) Créez un vecteur de bruit qui a la longueur de la base de test comme suit :\n",
        "noise_train = np.random.randint(0, 100, (len(X_test), 784))\n",
        "\n",
        "b) Ajoutez ce bruit avec une simple addition à la base de test\n"
      ]
    },
    {
      "cell_type": "code",
      "execution_count": 92,
      "metadata": {
        "id": "8-RKX1iGWoMU"
      },
      "outputs": [],
      "source": [
        "#Q32)\n",
        "# a) Création d'un vecteur de bruit pour la base de test\n",
        "noise_test = np.random.randint(0, 100, (len(X_test), 784))\n",
        "\n",
        "# b) Ajout du bruit à la base de test\n",
        "X_test_noisy = X_test + noise_test"
      ]
    },
    {
      "cell_type": "markdown",
      "metadata": {
        "id": "et9QAPMZRz3z"
      },
      "source": [
        "Q33) Créez une variable qui va contenir les labels de la base d'apprentissage, à savoir les image d'apprentissage non bruitées"
      ]
    },
    {
      "cell_type": "code",
      "execution_count": 93,
      "metadata": {
        "id": "E6jJqpdAWp2A"
      },
      "outputs": [],
      "source": [
        "Y_train_clean = Y_train"
      ]
    },
    {
      "cell_type": "markdown",
      "metadata": {
        "id": "DkXHCD7YR2we"
      },
      "source": [
        "Q34) Créez une variable qui va contenir les labels de la base de test, à savoir les images de test non bruitées"
      ]
    },
    {
      "cell_type": "code",
      "execution_count": 94,
      "metadata": {
        "id": "KPPIzleaWrd0"
      },
      "outputs": [],
      "source": [
        "Y_test_clean = Y_test"
      ]
    },
    {
      "cell_type": "markdown",
      "metadata": {
        "id": "3HSdUlZYR6_Y"
      },
      "source": [
        "Q35) Affichez une image bruitée ainsi que sa version non-bruitée via le code suivant :\n",
        "\n",
        "import matplotlib as mpl\n",
        "import matplotlib.pyplot as plt\n",
        "\n",
        "some_digit = X_test_mod[0]\n",
        "\n",
        "y_some_digit = y_test_mod[0]\n",
        "\n",
        "some_digit_image = some_digit.reshape(28, 28)\n",
        "\n",
        "y_some_digit_image = y_some_digit.reshape(28, 28)\n",
        "\n",
        "plt.subplot(121)\n",
        "\n",
        "plt.imshow(some_digit_image, cmap=mpl.cm.binary)\n",
        "\n",
        "plt.axis(\"off\")\n",
        "\n",
        "plt.subplot(122)\n",
        "\n",
        "plt.imshow(y_some_digit_image, cmap=mpl.cm.binary)\n",
        "\n",
        "plt.axis(\"off\")\n",
        "\n",
        "plt.show()\n"
      ]
    },
    {
      "cell_type": "code",
      "source": [
        "import matplotlib as mpl\n",
        "import matplotlib.pyplot as plt\n",
        "\n",
        "# X_test_mod contient la base de test bruitée\n",
        "X_test_mod = X_test_noisy\n",
        "# y_test_mod contient les images de test non bruitées\n",
        "y_test_mod = X_test\n",
        "\n",
        "# Sélection de la première image bruitée et non bruitée\n",
        "some_digit = X_test_mod[0]\n",
        "y_some_digit = y_test_mod[0]\n",
        "\n",
        "# Reshape pour affichage\n",
        "some_digit_image = some_digit.reshape(28, 28)\n",
        "y_some_digit_image = y_some_digit.reshape(28, 28)\n",
        "\n",
        "# Création de la figure avec les titres\n",
        "plt.figure(figsize=(6, 3))\n",
        "\n",
        "plt.subplot(1, 2, 1)\n",
        "plt.imshow(some_digit_image, cmap=mpl.cm.binary)\n",
        "plt.title(\"Image bruitée\")  # Ajout du titre\n",
        "plt.axis(\"off\")\n",
        "\n",
        "plt.subplot(1, 2, 2)\n",
        "plt.imshow(y_some_digit_image, cmap=mpl.cm.binary)\n",
        "plt.title(\"Image originale\")  # Ajout du titre\n",
        "plt.axis(\"off\")\n",
        "\n",
        "plt.tight_layout()  # Ajustement automatique des espacements\n",
        "plt.show()\n",
        "\n",
        "\"\"\"\n",
        "import matplotlib as mpl\n",
        "import matplotlib.pyplot as plt\n",
        "\n",
        "# X_test_mod contient la base de test bruitée\n",
        "some_digit = X_test_noisy[0]\n",
        "# y_test_mod contient les labels de la base de test (images de test non bruitée)\n",
        "y_some_digit = Y_test[0]\n",
        "\n",
        "some_digit_image = some_digit.reshape(28, 28)\n",
        "y_some_digit_image = y_some_digit.reshape(28, 28)\n",
        "plt.subplot(121)\n",
        "plt.imshow(some_digit_image, cmap=mpl.cm.binary)\n",
        "plt.axis(\"off\")\n",
        "plt.subplot(122)\n",
        "plt.imshow(y_some_digit_image, cmap=mpl.cm.binary)\n",
        "plt.axis(\"off\")\n",
        "plt.show()\n",
        "\"\"\""
      ],
      "metadata": {
        "colab": {
          "base_uri": "https://localhost:8080/",
          "height": 386
        },
        "id": "b0Yv9Tzz7TVo",
        "outputId": "6b549744-7fcb-4491-e5de-aeb635ec5c27"
      },
      "execution_count": 109,
      "outputs": [
        {
          "output_type": "display_data",
          "data": {
            "text/plain": [
              "<Figure size 600x300 with 2 Axes>"
            ],
            "image/png": "[encoded data removed]"
          },
          "metadata": {}
        },
        {
          "output_type": "execute_result",
          "data": {
            "text/plain": [
              "'\\nimport matplotlib as mpl\\nimport matplotlib.pyplot as plt\\n\\n# X_test_mod contient la base de test bruitée\\nsome_digit = X_test_noisy[0]\\n# y_test_mod contient les labels de la base de test (images de test non bruitée)\\ny_some_digit = Y_test[0]\\n\\nsome_digit_image = some_digit.reshape(28, 28)\\ny_some_digit_image = y_some_digit.reshape(28, 28)\\nplt.subplot(121)\\nplt.imshow(some_digit_image, cmap=mpl.cm.binary)\\nplt.axis(\"off\")\\nplt.subplot(122)\\nplt.imshow(y_some_digit_image, cmap=mpl.cm.binary)\\nplt.axis(\"off\")\\nplt.show()\\n'"
            ],
            "application/vnd.google.colaboratory.intrinsic+json": {
              "type": "string"
            }
          },
          "metadata": {},
          "execution_count": 109
        }
      ]
    },
    {
      "cell_type": "markdown",
      "metadata": {
        "id": "lWI7XsyzSMP5"
      },
      "source": [
        "Q36) En utilisant la méthode de k-plus proches voisins :\n",
        "\n",
        "a) Faites un apprentissage sur les images d'apprentissage bruitées. Deux arguments doivent être fournis à la méthode \"fit\" : les images d'apprentissage bruitées (instances) et leurs version non-bruitée (labels=classes)\n",
        "\n",
        "b) Prédisez la classe (sous forme de vecteurs) de la première instance de la base de test. Ensuite :\n",
        "\n",
        "i) affichez les valeurs du vecteur\n",
        "\n",
        "ii) affichez ce vecteur sous forme d'image pour vérifier si le débruitage était bien fait. Pour ce faire, pensez à redimensionner l'image\n"
      ]
    },
    {
      "cell_type": "code",
      "execution_count": 111,
      "metadata": {
        "id": "YOc8i2JoXMw4",
        "colab": {
          "base_uri": "https://localhost:8080/",
          "height": 478
        },
        "outputId": "ec35f02e-4838-45bc-ed43-decff6e94947"
      },
      "outputs": [
        {
          "output_type": "stream",
          "name": "stderr",
          "text": [
            "/usr/local/lib/python3.11/dist-packages/sklearn/utils/validation.py:2739: UserWarning: X does not have valid feature names, but KNeighborsClassifier was fitted with feature names\n",
            "  warnings.warn(\n"
          ]
        },
        {
          "output_type": "stream",
          "name": "stdout",
          "text": [
            "Vecteur prédit pour la première instance de la base de test : [2]\n"
          ]
        },
        {
          "output_type": "display_data",
          "data": {
            "text/plain": [
              "<Figure size 640x480 with 1 Axes>"
            ],
            "image/png": "[encoded data removed]"
          },
          "metadata": {}
        }
      ],
      "source": [
        "from sklearn.neighbors import KNeighborsClassifier\n",
        "import matplotlib.pyplot as plt\n",
        "\n",
        "# a) Apprentissage sur les images d'apprentissage bruitées\n",
        "knn_clf_noisy = KNeighborsClassifier()\n",
        "knn_clf_noisy.fit(X_train_noisy, Y_train_clean)\n",
        "\n",
        "# b) Prédiction de la classe de la première instance de la base de test\n",
        "prediction_first_instance = knn_clf_noisy.predict([X_test_noisy[0]])\n",
        "\n",
        "# i) Affichage des valeurs du vecteur prédit\n",
        "print(\"Vecteur prédit pour la première instance de la base de test :\", prediction_first_instance)\n",
        "\n",
        "# ii) Affichage du vecteur prédit sous forme d'image\n",
        "image_first_instance = X_test_noisy[0].reshape(28, 28)\n",
        "plt.imshow(image_first_instance, cmap='binary')\n",
        "plt.axis(\"off\")\n",
        "plt.show()\n"
      ]
    }
  ],
  "metadata": {
    "colab": {
      "provenance": []
    },
    "kernelspec": {
      "display_name": "Python 3",
      "name": "python3"
    },
    "language_info": {
      "name": "python"
    }
  },
  "nbformat": 4,
  "nbformat_minor": 0
}